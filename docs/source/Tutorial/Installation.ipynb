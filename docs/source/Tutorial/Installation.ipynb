{
 "cells": [
  {
   "cell_type": "markdown",
   "metadata": {},
   "source": [
    "# Installation"
   ]
  },
  {
   "cell_type": "markdown",
   "metadata": {},
   "source": [
    "## Creating a virtual Environment\n",
    "Set up a Python environment and install Jupyter Notebook using the Conda package manager.\n",
    "\n",
    "Run the following command in your terminal:"
   ]
  },
  {
   "cell_type": "code",
   "execution_count": null,
   "metadata": {},
   "outputs": [],
   "source": [
    "conda create --name SpaKnit python=3.11.5\n",
    "conda activate SpaKnit\n",
    "conda install jupyter notebook"
   ]
  },
  {
   "cell_type": "code",
   "execution_count": null,
   "metadata": {},
   "outputs": [],
   "source": [
    "pip install torch==2.2.0 torchvision==0.17.0\n",
    "pip install pandas==1.5.3 numpy==1.23.5 scanpy==1.9.5 matplotlib==3.7.1 scikit-learn==1.2.2 scipy==1.10.1\n",
    "## tqdm-4.67.1 (已安装) tqdm==4.65.0(原目录)\n",
    "pip install anndata==0.11.1 opencv-python==4.9.0.80 rpy2==3.5.14"
   ]
  },
  {
   "cell_type": "code",
   "execution_count": null,
   "metadata": {},
   "outputs": [],
   "source": [
    "import subprocess"
   ]
  }
 ],
 "metadata": {
  "language_info": {
   "name": "python"
  }
 },
 "nbformat": 4,
 "nbformat_minor": 2
}
